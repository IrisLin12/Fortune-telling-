{
 "cells": [
  {
   "cell_type": "markdown",
   "metadata": {},
   "source": [
    "小六壬（时辰占卜法）"
   ]
  },
  {
   "cell_type": "markdown",
   "metadata": {},
   "source": [
    "readme：  \n",
    "请在有强烈预感的时候算\n",
    "\n",
    "用此刻的农历时间计算(e.g.3月初九，即输入3、9)  \n",
    "时间输入24点的时间(e.g.18：40，输入18;  24点请输入0)\n",
    "\n",
    "e.g.  \n",
    "三月初九18点  \n",
    "输入：futune(3,9,18)  \n",
    "注意用英文键盘"
   ]
  },
  {
   "cell_type": "code",
   "execution_count": 2,
   "metadata": {},
   "outputs": [],
   "source": [
    "def futune(month,day,time):\n",
    "    if(time % 2 == 0):\n",
    "        timeold = time//2 +1\n",
    "    else:\n",
    "        timeold = ((time+1)/2 + 1)%12\n",
    "\n",
    "    num = (month + day + timeold - 2) % 6\n",
    "    \n",
    "    if(num == 1):\n",
    "        print(\"大安\")\n",
    "        print(\"大安事事吉，求谋在东方，失物去不远，宅舍保平安，行人身未动，病者主无妨吗，将军回田野，仔细更端详\")\n",
    "        print(\"身不动时，五行属木，方位东，青龙，数字：1、5、7，有静止、心安、吉祥之意\")\n",
    "    elif(num == 2):\n",
    "        print(\"留连\")\n",
    "        print(\"留连事难成，求谋事未明，官事凡宜缓，去者未回程，失物南方见，急讨方心称，更须防口舌，人口且平平\")\n",
    "        print(\"人未归时，五行属水，颜色为黑，方位北，玄武，数字：2、8、10，有暧昧不明、延迟、纠缠、拖延、漫长之意\")\n",
    "    elif(num == 3):\n",
    "        print(\"速喜\")\n",
    "        print(\"速喜喜来临，求财向南行，失物申未午（南、西南），逢人路上寻，官事有福德，病者无祸侵，田宅六处吉，行人有信音\")\n",
    "        print(\"人即至时，五行属火，红色，南方，数字：3、6、9，有快速、吉利、时机已到之意\")\n",
    "    elif(num == 4):\n",
    "        print(\"赤口\")\n",
    "        print(\"赤口主口舌，官非切官防，失物急去寻，行人有惊慌，鸡犬（六畜）多作怪，病者出西方，更须防咀咒，诚恐染瘟皇\")\n",
    "        print(\"官事凶时，五行属金，白色，西方，白虎，数字：4、7、10，有不吉、惊恐、凶险、口舌是非之意\")\n",
    "    elif(num == 5):\n",
    "        print(\"小吉\")\n",
    "        print(\"小吉最吉昌，路上好商量，阴人来报喜，失物在坤方（西南），行人即便至，交易甚是强，凡事皆和合，病者祈上苍\")\n",
    "        print(\"人来喜时，五行属木，六合，数字：1、5、7，有和何、吉利之意\")\n",
    "    elif(num == 0):\n",
    "        print(\"空亡\")\n",
    "        print(\"空亡事不详，阴人多乖张，求财无利益，行人有灾殃，失物寻一见，管事有刑伤，病人逢暗鬼，祈解保平安\")\n",
    "        print(\"音信稀时，五行属土，黄色，中央，🪝陈，数字：3、6、9，有不吉、无果之意\")\n",
    "\n"
   ]
  },
  {
   "cell_type": "code",
   "execution_count": 3,
   "metadata": {},
   "outputs": [
    {
     "name": "stdout",
     "output_type": "stream",
     "text": [
      "留连\n",
      "留连事难成，求谋事未明，官事凡宜缓，去者未回程，失物南方见，急讨方心称，更须防口舌，人口且平平\n",
      "人未归时，五行属水，颜色为黑，方位北，玄武，数字：2、8、10，有暧昧不明、延迟、纠缠、拖延、漫长之意\n"
     ]
    }
   ],
   "source": [
    "futune(6,29,19)"
   ]
  },
  {
   "cell_type": "code",
   "execution_count": 15,
   "metadata": {},
   "outputs": [
    {
     "data": {
      "text/plain": [
       "0.8203649805353979"
      ]
     },
     "execution_count": 15,
     "metadata": {},
     "output_type": "execute_result"
    }
   ],
   "source": [
    "103309374284.25/125930990151.27"
   ]
  }
 ],
 "metadata": {
  "kernelspec": {
   "display_name": "base",
   "language": "python",
   "name": "python3"
  },
  "language_info": {
   "codemirror_mode": {
    "name": "ipython",
    "version": 3
   },
   "file_extension": ".py",
   "mimetype": "text/x-python",
   "name": "python",
   "nbconvert_exporter": "python",
   "pygments_lexer": "ipython3",
   "version": "3.11.5"
  }
 },
 "nbformat": 4,
 "nbformat_minor": 2
}
